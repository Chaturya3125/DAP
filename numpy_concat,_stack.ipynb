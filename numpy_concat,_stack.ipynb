{
  "nbformat": 4,
  "nbformat_minor": 5,
  "metadata": {
    "kernelspec": {
      "display_name": "Python 3",
      "language": "python",
      "name": "python3"
    },
    "language_info": {
      "codemirror_mode": {
        "name": "ipython",
        "version": 3
      },
      "file_extension": ".py",
      "mimetype": "text/x-python",
      "name": "python",
      "nbconvert_exporter": "python",
      "pygments_lexer": "ipython3",
      "version": "3.8.8"
    },
    "colab": {
      "name": "numpy concat, stack.ipynb",
      "provenance": [],
      "include_colab_link": true
    }
  },
  "cells": [
    {
      "cell_type": "markdown",
      "metadata": {
        "id": "view-in-github",
        "colab_type": "text"
      },
      "source": [
        "<a href=\"https://colab.research.google.com/github/Chaturya3125/DAP/blob/main/numpy_concat%2C_stack.ipynb\" target=\"_parent\"><img src=\"https://colab.research.google.com/assets/colab-badge.svg\" alt=\"Open In Colab\"/></a>"
      ]
    },
    {
      "cell_type": "code",
      "metadata": {
        "id": "05a59e93",
        "colab": {
          "base_uri": "https://localhost:8080/"
        },
        "outputId": "8f802540-b0a0-4a5f-8ff1-d814c1d9b588"
      },
      "source": [
        "import numpy as np\n",
        "\n",
        "arr1 = np.array([1, 2, 3])\n",
        "\n",
        "arr2 = np.array([4, 5, 6])\n",
        "\n",
        "arr = np.concatenate((arr1, arr2))\n",
        "\n",
        "print(arr) "
      ],
      "id": "05a59e93",
      "execution_count": 1,
      "outputs": [
        {
          "output_type": "stream",
          "name": "stdout",
          "text": [
            "[1 2 3 4 5 6]\n"
          ]
        }
      ]
    },
    {
      "cell_type": "code",
      "metadata": {
        "id": "59617e1e",
        "colab": {
          "base_uri": "https://localhost:8080/"
        },
        "outputId": "33b86623-6d83-48b8-ef3c-2fa28ec650dc"
      },
      "source": [
        "import numpy as np\n",
        "\n",
        "arr1 = np.array([[1, 2], [3, 4]])\n",
        "\n",
        "print(\"arr1=\", arr1) \n",
        "\n",
        "arr2 = np.array([[5, 6], [7, 8]])\n",
        "\n",
        "print(\"arr2=\", arr2) \n",
        "\n",
        "print(\"after concatenation =\")\n",
        "\n",
        "arr = np.concatenate((arr1, arr2), axis=1) #0=row, 1=col\n",
        "\n",
        "print(arr) "
      ],
      "id": "59617e1e",
      "execution_count": 2,
      "outputs": [
        {
          "output_type": "stream",
          "name": "stdout",
          "text": [
            "arr1= [[1 2]\n",
            " [3 4]]\n",
            "arr2= [[5 6]\n",
            " [7 8]]\n",
            "after concatenation =\n",
            "[[1 2 5 6]\n",
            " [3 4 7 8]]\n"
          ]
        }
      ]
    },
    {
      "cell_type": "code",
      "metadata": {
        "id": "253e2b79",
        "colab": {
          "base_uri": "https://localhost:8080/"
        },
        "outputId": "d64fdef8-0ace-47e9-d481-54add494eba1"
      },
      "source": [
        "import numpy as np\n",
        "\n",
        "arr1 = np.array([[1, 2], [3, 4]])\n",
        "\n",
        "print(\"arr1=\", arr1) \n",
        "\n",
        "arr2 = np.array([[5, 6], [7, 8]])\n",
        "\n",
        "print(\"arr2=\", arr2) \n",
        "\n",
        "print(\"after concatenation =\")\n",
        "arr = np.concatenate((arr1, arr2), axis=0) #0=row, 1=col\n",
        "\n",
        "print(arr) "
      ],
      "id": "253e2b79",
      "execution_count": 3,
      "outputs": [
        {
          "output_type": "stream",
          "name": "stdout",
          "text": [
            "arr1= [[1 2]\n",
            " [3 4]]\n",
            "arr2= [[5 6]\n",
            " [7 8]]\n",
            "after concatenation =\n",
            "[[1 2]\n",
            " [3 4]\n",
            " [5 6]\n",
            " [7 8]]\n"
          ]
        }
      ]
    },
    {
      "cell_type": "code",
      "metadata": {
        "id": "c774320c",
        "colab": {
          "base_uri": "https://localhost:8080/"
        },
        "outputId": "7d864d30-c37c-4d10-c7e4-387d618b7a03"
      },
      "source": [
        "import numpy as np\n",
        "\n",
        "arr1 = np.array([1, 2, 3])\n",
        "\n",
        "arr2 = np.array([4, 5, 6])\n",
        "\n",
        "arr = np.hstack((arr1, arr2))\n",
        "\n",
        "print(arr) "
      ],
      "id": "c774320c",
      "execution_count": 4,
      "outputs": [
        {
          "output_type": "stream",
          "name": "stdout",
          "text": [
            "[1 2 3 4 5 6]\n"
          ]
        }
      ]
    },
    {
      "cell_type": "code",
      "metadata": {
        "id": "57677231",
        "colab": {
          "base_uri": "https://localhost:8080/"
        },
        "outputId": "743f9952-0365-4e6f-ffd9-d50308e69153"
      },
      "source": [
        "import numpy as np\n",
        "\n",
        "arr1 = np.array([1, 2, 3])\n",
        "\n",
        "arr2 = np.array([4, 5, 6])\n",
        "\n",
        "arr = np.vstack((arr1, arr2))\n",
        "\n",
        "print(arr) "
      ],
      "id": "57677231",
      "execution_count": 5,
      "outputs": [
        {
          "output_type": "stream",
          "name": "stdout",
          "text": [
            "[[1 2 3]\n",
            " [4 5 6]]\n"
          ]
        }
      ]
    },
    {
      "cell_type": "code",
      "metadata": {
        "id": "b5d1d082",
        "colab": {
          "base_uri": "https://localhost:8080/"
        },
        "outputId": "da70c1a1-48f2-40c4-fb5d-156548ac9fcf"
      },
      "source": [
        "a = np.array([1,2,3])\n",
        "\n",
        "b = np.array([4,5,6])\n",
        "\n",
        "print(\"hstack =\", np.hstack((a,b)))\n",
        "\n",
        "print(\"vstack =\", np.vstack((a,b)))\n",
        "\n",
        "a = np.array([[1],[2],[3]])\n",
        "\n",
        "b = np.array([[4],[5],[6]])\n",
        "\n",
        "print(\"hstack =\", np.hstack((a,b)))\n",
        "\n",
        "print(\"vstack =\", np.vstack((a,b)))\n"
      ],
      "id": "b5d1d082",
      "execution_count": 6,
      "outputs": [
        {
          "output_type": "stream",
          "name": "stdout",
          "text": [
            "hstack = [1 2 3 4 5 6]\n",
            "vstack = [[1 2 3]\n",
            " [4 5 6]]\n",
            "hstack = [[1 4]\n",
            " [2 5]\n",
            " [3 6]]\n",
            "vstack = [[1]\n",
            " [2]\n",
            " [3]\n",
            " [4]\n",
            " [5]\n",
            " [6]]\n"
          ]
        }
      ]
    },
    {
      "cell_type": "code",
      "metadata": {
        "id": "36aba148",
        "colab": {
          "base_uri": "https://localhost:8080/"
        },
        "outputId": "a5b27de6-a559-4173-e009-3a3bebf9ac30"
      },
      "source": [
        "a = np.array([[1,2,3],[11,22,33],[111,222,333],[1111,2222,3333]])\n",
        "\n",
        "b = np.array([[7,8,9],[77,88,99],[777,888,999],[7777,8888,9999]])\n",
        "\n",
        "print(\"\\nhstack =\\n\", np.hstack((a,b)))\n",
        "\n",
        "print(\"\\n======next print======\")\n",
        "\n",
        "print(\"\\nvstack =\\n\", np.vstack((a,b)))\n",
        "\n",
        "arr = np.concatenate((a, b), axis=0)\n",
        "\n",
        "print(\"\\n======next print======\")\n",
        "\n",
        "print(\"\\n concatenate at axis 0=\\n\",arr)\n",
        "\n",
        "arr1 = np.concatenate((a, b), axis=1)\n",
        "\n",
        "print(\"\\n======next print======\")\n",
        "\n",
        "print(\"\\n concatenate at axis 1=\\n\",arr1)"
      ],
      "id": "36aba148",
      "execution_count": 7,
      "outputs": [
        {
          "output_type": "stream",
          "name": "stdout",
          "text": [
            "\n",
            "hstack =\n",
            " [[   1    2    3    7    8    9]\n",
            " [  11   22   33   77   88   99]\n",
            " [ 111  222  333  777  888  999]\n",
            " [1111 2222 3333 7777 8888 9999]]\n",
            "\n",
            "======next print======\n",
            "\n",
            "vstack =\n",
            " [[   1    2    3]\n",
            " [  11   22   33]\n",
            " [ 111  222  333]\n",
            " [1111 2222 3333]\n",
            " [   7    8    9]\n",
            " [  77   88   99]\n",
            " [ 777  888  999]\n",
            " [7777 8888 9999]]\n",
            "\n",
            "======next print======\n",
            "\n",
            " concatenate at axis 0=\n",
            " [[   1    2    3]\n",
            " [  11   22   33]\n",
            " [ 111  222  333]\n",
            " [1111 2222 3333]\n",
            " [   7    8    9]\n",
            " [  77   88   99]\n",
            " [ 777  888  999]\n",
            " [7777 8888 9999]]\n",
            "\n",
            "======next print======\n",
            "\n",
            " concatenate at axis 1=\n",
            " [[   1    2    3    7    8    9]\n",
            " [  11   22   33   77   88   99]\n",
            " [ 111  222  333  777  888  999]\n",
            " [1111 2222 3333 7777 8888 9999]]\n"
          ]
        }
      ]
    },
    {
      "cell_type": "code",
      "metadata": {
        "id": "193038d9",
        "outputId": "3d6cb810-7bab-459e-e05f-6181ce41c3e7"
      },
      "source": [
        "a= np.array([[1, 2, 3], [4, 5, 6]])\n",
        "print(a)"
      ],
      "id": "193038d9",
      "execution_count": null,
      "outputs": [
        {
          "name": "stdout",
          "output_type": "stream",
          "text": [
            "[[1 2 3]\n",
            " [4 5 6]]\n"
          ]
        }
      ]
    },
    {
      "cell_type": "code",
      "metadata": {
        "id": "c7325a2c",
        "colab": {
          "base_uri": "https://localhost:8080/"
        },
        "outputId": "89495f8c-802c-4348-e51a-56038e356937"
      },
      "source": [
        "b = np.array([7,8,9])\n",
        "print(b)"
      ],
      "id": "c7325a2c",
      "execution_count": 8,
      "outputs": [
        {
          "output_type": "stream",
          "name": "stdout",
          "text": [
            "[7 8 9]\n"
          ]
        }
      ]
    },
    {
      "cell_type": "code",
      "metadata": {
        "id": "bd5da924",
        "colab": {
          "base_uri": "https://localhost:8080/"
        },
        "outputId": "5daf12ed-4dcf-46fe-ac83-4d180b626816"
      },
      "source": [
        "c = np.array([[7,8,9]])\n",
        "print(c)"
      ],
      "id": "bd5da924",
      "execution_count": 9,
      "outputs": [
        {
          "output_type": "stream",
          "name": "stdout",
          "text": [
            "[[7 8 9]]\n"
          ]
        }
      ]
    },
    {
      "cell_type": "code",
      "metadata": {
        "id": "df9f416f",
        "colab": {
          "base_uri": "https://localhost:8080/",
          "height": 374
        },
        "outputId": "93a700a9-988b-420f-90dc-812286501ee3"
      },
      "source": [
        "np.append(a,b, axis=0)"
      ],
      "id": "df9f416f",
      "execution_count": 10,
      "outputs": [
        {
          "output_type": "error",
          "ename": "ValueError",
          "evalue": "ignored",
          "traceback": [
            "\u001b[0;31m---------------------------------------------------------------------------\u001b[0m",
            "\u001b[0;31mValueError\u001b[0m                                Traceback (most recent call last)",
            "\u001b[0;32m<ipython-input-10-b9eb344211ed>\u001b[0m in \u001b[0;36m<module>\u001b[0;34m()\u001b[0m\n\u001b[0;32m----> 1\u001b[0;31m \u001b[0mnp\u001b[0m\u001b[0;34m.\u001b[0m\u001b[0mappend\u001b[0m\u001b[0;34m(\u001b[0m\u001b[0ma\u001b[0m\u001b[0;34m,\u001b[0m\u001b[0mb\u001b[0m\u001b[0;34m,\u001b[0m \u001b[0maxis\u001b[0m\u001b[0;34m=\u001b[0m\u001b[0;36m0\u001b[0m\u001b[0;34m)\u001b[0m\u001b[0;34m\u001b[0m\u001b[0;34m\u001b[0m\u001b[0m\n\u001b[0m",
            "\u001b[0;32m<__array_function__ internals>\u001b[0m in \u001b[0;36mappend\u001b[0;34m(*args, **kwargs)\u001b[0m\n",
            "\u001b[0;32m/usr/local/lib/python3.7/dist-packages/numpy/lib/function_base.py\u001b[0m in \u001b[0;36mappend\u001b[0;34m(arr, values, axis)\u001b[0m\n\u001b[1;32m   4669\u001b[0m         \u001b[0mvalues\u001b[0m \u001b[0;34m=\u001b[0m \u001b[0mravel\u001b[0m\u001b[0;34m(\u001b[0m\u001b[0mvalues\u001b[0m\u001b[0;34m)\u001b[0m\u001b[0;34m\u001b[0m\u001b[0;34m\u001b[0m\u001b[0m\n\u001b[1;32m   4670\u001b[0m         \u001b[0maxis\u001b[0m \u001b[0;34m=\u001b[0m \u001b[0marr\u001b[0m\u001b[0;34m.\u001b[0m\u001b[0mndim\u001b[0m\u001b[0;34m-\u001b[0m\u001b[0;36m1\u001b[0m\u001b[0;34m\u001b[0m\u001b[0;34m\u001b[0m\u001b[0m\n\u001b[0;32m-> 4671\u001b[0;31m     \u001b[0;32mreturn\u001b[0m \u001b[0mconcatenate\u001b[0m\u001b[0;34m(\u001b[0m\u001b[0;34m(\u001b[0m\u001b[0marr\u001b[0m\u001b[0;34m,\u001b[0m \u001b[0mvalues\u001b[0m\u001b[0;34m)\u001b[0m\u001b[0;34m,\u001b[0m \u001b[0maxis\u001b[0m\u001b[0;34m=\u001b[0m\u001b[0maxis\u001b[0m\u001b[0;34m)\u001b[0m\u001b[0;34m\u001b[0m\u001b[0;34m\u001b[0m\u001b[0m\n\u001b[0m\u001b[1;32m   4672\u001b[0m \u001b[0;34m\u001b[0m\u001b[0m\n\u001b[1;32m   4673\u001b[0m \u001b[0;34m\u001b[0m\u001b[0m\n",
            "\u001b[0;32m<__array_function__ internals>\u001b[0m in \u001b[0;36mconcatenate\u001b[0;34m(*args, **kwargs)\u001b[0m\n",
            "\u001b[0;31mValueError\u001b[0m: all the input arrays must have same number of dimensions, but the array at index 0 has 2 dimension(s) and the array at index 1 has 1 dimension(s)"
          ]
        }
      ]
    },
    {
      "cell_type": "code",
      "metadata": {
        "id": "1f4a3c1d",
        "colab": {
          "base_uri": "https://localhost:8080/"
        },
        "outputId": "cd7fafb9-890f-4471-8058-8cccafa4b39b"
      },
      "source": [
        "np.append(a,c, axis=0)"
      ],
      "id": "1f4a3c1d",
      "execution_count": 11,
      "outputs": [
        {
          "output_type": "execute_result",
          "data": {
            "text/plain": [
              "array([[   1,    2,    3],\n",
              "       [  11,   22,   33],\n",
              "       [ 111,  222,  333],\n",
              "       [1111, 2222, 3333],\n",
              "       [   7,    8,    9]])"
            ]
          },
          "metadata": {},
          "execution_count": 11
        }
      ]
    },
    {
      "cell_type": "code",
      "metadata": {
        "id": "9034c8a5",
        "colab": {
          "base_uri": "https://localhost:8080/"
        },
        "outputId": "933a6b8b-e56c-46b9-8d95-e0de58806b62"
      },
      "source": [
        "import numpy as np\n",
        "a = np.array([1,2,3])\n",
        "b = np.array([5,6])\n",
        "np.concatenate((a,b))"
      ],
      "id": "9034c8a5",
      "execution_count": 12,
      "outputs": [
        {
          "output_type": "execute_result",
          "data": {
            "text/plain": [
              "array([1, 2, 3, 5, 6])"
            ]
          },
          "metadata": {},
          "execution_count": 12
        }
      ]
    },
    {
      "cell_type": "code",
      "metadata": {
        "id": "74195f3c",
        "colab": {
          "base_uri": "https://localhost:8080/"
        },
        "outputId": "28525893-9f77-4ad5-e090-12eb95a57d11"
      },
      "source": [
        "np.r_[a,b]"
      ],
      "id": "74195f3c",
      "execution_count": 13,
      "outputs": [
        {
          "output_type": "execute_result",
          "data": {
            "text/plain": [
              "array([1, 2, 3, 5, 6])"
            ]
          },
          "metadata": {},
          "execution_count": 13
        }
      ]
    },
    {
      "cell_type": "code",
      "metadata": {
        "id": "d2a94578",
        "colab": {
          "base_uri": "https://localhost:8080/"
        },
        "outputId": "61c6de60-76e7-4517-d0b5-e1b1d93e6f1f"
      },
      "source": [
        "a = np.array([1, 2,3])\n",
        "b = np.array([5, 6,7])\n",
        "np.stack([a,b]).reshape(-1)"
      ],
      "id": "d2a94578",
      "execution_count": 14,
      "outputs": [
        {
          "output_type": "execute_result",
          "data": {
            "text/plain": [
              "array([1, 2, 3, 5, 6, 7])"
            ]
          },
          "metadata": {},
          "execution_count": 14
        }
      ]
    },
    {
      "cell_type": "code",
      "metadata": {
        "id": "92731993",
        "colab": {
          "base_uri": "https://localhost:8080/"
        },
        "outputId": "6629fcf4-9620-4f0a-9224-9ba46da51d09"
      },
      "source": [
        "a = np.array([1, 2,3])\n",
        "b = np.array([5, 6,7])\n",
        "np.stack([a,b])"
      ],
      "id": "92731993",
      "execution_count": 15,
      "outputs": [
        {
          "output_type": "execute_result",
          "data": {
            "text/plain": [
              "array([[1, 2, 3],\n",
              "       [5, 6, 7]])"
            ]
          },
          "metadata": {},
          "execution_count": 15
        }
      ]
    },
    {
      "cell_type": "code",
      "metadata": {
        "id": "e3d49a13",
        "colab": {
          "base_uri": "https://localhost:8080/"
        },
        "outputId": "1ab1d5b0-2642-4d5b-c4bc-555957a2607f"
      },
      "source": [
        "print()"
      ],
      "id": "e3d49a13",
      "execution_count": 16,
      "outputs": [
        {
          "output_type": "stream",
          "name": "stdout",
          "text": [
            "\n"
          ]
        }
      ]
    },
    {
      "cell_type": "code",
      "metadata": {
        "id": "22f9070a",
        "colab": {
          "base_uri": "https://localhost:8080/"
        },
        "outputId": "738e428e-68d3-4fe5-f258-4e09e4333eae"
      },
      "source": [
        "a = np.array([[1,2,3],[11,22,33],[111,222,333],[1111,2222,3333]])\n",
        "\n",
        "b = np.array([[7,8,9],[77,88,99],[777,888,999],[7777,8888,9999]])\n",
        "\n",
        "print(\"\\nhstack =\\n\", np.hstack((a,b)))\n",
        "\n",
        "print(\"\\n======next print======\")\n",
        "\n",
        "print(\"\\nvstack =\\n\", np.vstack((a,b)))"
      ],
      "id": "22f9070a",
      "execution_count": 17,
      "outputs": [
        {
          "output_type": "stream",
          "name": "stdout",
          "text": [
            "\n",
            "hstack =\n",
            " [[   1    2    3    7    8    9]\n",
            " [  11   22   33   77   88   99]\n",
            " [ 111  222  333  777  888  999]\n",
            " [1111 2222 3333 7777 8888 9999]]\n",
            "\n",
            "======next print======\n",
            "\n",
            "vstack =\n",
            " [[   1    2    3]\n",
            " [  11   22   33]\n",
            " [ 111  222  333]\n",
            " [1111 2222 3333]\n",
            " [   7    8    9]\n",
            " [  77   88   99]\n",
            " [ 777  888  999]\n",
            " [7777 8888 9999]]\n"
          ]
        }
      ]
    },
    {
      "cell_type": "code",
      "metadata": {
        "id": "5dc5b6ed",
        "colab": {
          "base_uri": "https://localhost:8080/"
        },
        "outputId": "dd495e00-215d-4367-e904-8a2923d33a9f"
      },
      "source": [
        "a = np.array([[1],[2],[3]])\n",
        "\n",
        "b = np.array([[8],[9],[10]])\n",
        "\n",
        "print(\"\\nhstack =\\n\", np.hstack((a,b)))\n",
        "\n",
        "print(\"\\n======next print======\")\n",
        "\n",
        "print(\"\\nvstack =\\n\", np.vstack((a,b)))"
      ],
      "id": "5dc5b6ed",
      "execution_count": 18,
      "outputs": [
        {
          "output_type": "stream",
          "name": "stdout",
          "text": [
            "\n",
            "hstack =\n",
            " [[ 1  8]\n",
            " [ 2  9]\n",
            " [ 3 10]]\n",
            "\n",
            "======next print======\n",
            "\n",
            "vstack =\n",
            " [[ 1]\n",
            " [ 2]\n",
            " [ 3]\n",
            " [ 8]\n",
            " [ 9]\n",
            " [10]]\n"
          ]
        }
      ]
    },
    {
      "cell_type": "code",
      "metadata": {
        "id": "919b13f6",
        "colab": {
          "base_uri": "https://localhost:8080/"
        },
        "outputId": "d238fe03-ff6e-45cf-cc18-fb21a95eab11"
      },
      "source": [
        "a = np.array([[1,2],[3,4]])\n",
        "\n",
        "b = np.array([[5,6],[7,8]])\n",
        "\n",
        "print(\"\\nhstack =\\n\", np.hstack((a,b)))\n",
        "\n",
        "print(\"\\n======next print======\")\n",
        "\n",
        "print(\"\\nvstack =\\n\", np.vstack((a,b)))"
      ],
      "id": "919b13f6",
      "execution_count": 19,
      "outputs": [
        {
          "output_type": "stream",
          "name": "stdout",
          "text": [
            "\n",
            "hstack =\n",
            " [[1 2 5 6]\n",
            " [3 4 7 8]]\n",
            "\n",
            "======next print======\n",
            "\n",
            "vstack =\n",
            " [[1 2]\n",
            " [3 4]\n",
            " [5 6]\n",
            " [7 8]]\n"
          ]
        }
      ]
    },
    {
      "cell_type": "code",
      "metadata": {
        "id": "d3613750",
        "colab": {
          "base_uri": "https://localhost:8080/"
        },
        "outputId": "e62ed96d-b220-49ed-d89e-114b3286bd00"
      },
      "source": [
        "import numpy as np\n",
        "a = np.array([[1, 2], [3, 4]])\n",
        "b = np.array([[5, 6]])\n",
        "np.concatenate((a, b), axis=0)"
      ],
      "id": "d3613750",
      "execution_count": 20,
      "outputs": [
        {
          "output_type": "execute_result",
          "data": {
            "text/plain": [
              "array([[1, 2],\n",
              "       [3, 4],\n",
              "       [5, 6]])"
            ]
          },
          "metadata": {},
          "execution_count": 20
        }
      ]
    },
    {
      "cell_type": "code",
      "metadata": {
        "id": "2b19fc52",
        "colab": {
          "base_uri": "https://localhost:8080/"
        },
        "outputId": "83b3a674-e91a-4b16-f7c3-fdc3814511d4"
      },
      "source": [
        "np.vstack((a,b))"
      ],
      "id": "2b19fc52",
      "execution_count": 21,
      "outputs": [
        {
          "output_type": "execute_result",
          "data": {
            "text/plain": [
              "array([[1, 2],\n",
              "       [3, 4],\n",
              "       [5, 6]])"
            ]
          },
          "metadata": {},
          "execution_count": 21
        }
      ]
    },
    {
      "cell_type": "code",
      "metadata": {
        "id": "2d18f152",
        "colab": {
          "base_uri": "https://localhost:8080/",
          "height": 218
        },
        "outputId": "91ac3c9d-5a97-4135-9bee-18ce2067aa21"
      },
      "source": [
        "np.concatenate((a, b), axis=1)"
      ],
      "id": "2d18f152",
      "execution_count": 22,
      "outputs": [
        {
          "output_type": "error",
          "ename": "ValueError",
          "evalue": "ignored",
          "traceback": [
            "\u001b[0;31m---------------------------------------------------------------------------\u001b[0m",
            "\u001b[0;31mValueError\u001b[0m                                Traceback (most recent call last)",
            "\u001b[0;32m<ipython-input-22-ab47451b2341>\u001b[0m in \u001b[0;36m<module>\u001b[0;34m()\u001b[0m\n\u001b[0;32m----> 1\u001b[0;31m \u001b[0mnp\u001b[0m\u001b[0;34m.\u001b[0m\u001b[0mconcatenate\u001b[0m\u001b[0;34m(\u001b[0m\u001b[0;34m(\u001b[0m\u001b[0ma\u001b[0m\u001b[0;34m,\u001b[0m \u001b[0mb\u001b[0m\u001b[0;34m)\u001b[0m\u001b[0;34m,\u001b[0m \u001b[0maxis\u001b[0m\u001b[0;34m=\u001b[0m\u001b[0;36m1\u001b[0m\u001b[0;34m)\u001b[0m\u001b[0;34m\u001b[0m\u001b[0;34m\u001b[0m\u001b[0m\n\u001b[0m",
            "\u001b[0;32m<__array_function__ internals>\u001b[0m in \u001b[0;36mconcatenate\u001b[0;34m(*args, **kwargs)\u001b[0m\n",
            "\u001b[0;31mValueError\u001b[0m: all the input array dimensions for the concatenation axis must match exactly, but along dimension 0, the array at index 0 has size 2 and the array at index 1 has size 1"
          ]
        }
      ]
    },
    {
      "cell_type": "code",
      "metadata": {
        "id": "c1ccf1ad",
        "colab": {
          "base_uri": "https://localhost:8080/"
        },
        "outputId": "35056379-ce14-4f57-a927-3bdf399f1877"
      },
      "source": [
        "np.concatenate((a, b.T), axis=1)"
      ],
      "id": "c1ccf1ad",
      "execution_count": 23,
      "outputs": [
        {
          "output_type": "execute_result",
          "data": {
            "text/plain": [
              "array([[1, 2, 5],\n",
              "       [3, 4, 6]])"
            ]
          },
          "metadata": {},
          "execution_count": 23
        }
      ]
    },
    {
      "cell_type": "code",
      "metadata": {
        "id": "37576cda",
        "colab": {
          "base_uri": "https://localhost:8080/"
        },
        "outputId": "72b2f05a-fdb7-4d2c-c166-1e46cf7adb32"
      },
      "source": [
        "import numpy as np\n",
        "a = np.array([[1, 2], [3, 4]])\n",
        "b = np.array([5, 6])\n",
        "bb= np.array([[5, 6],[7,8]])\n",
        "cc=b.T\n",
        "\n",
        "print(\"vstack=\",np.vstack((a,cc)))\n",
        "\n",
        "print(\"hstack=\",np.hstack((a,bb)))"
      ],
      "id": "37576cda",
      "execution_count": 24,
      "outputs": [
        {
          "output_type": "stream",
          "name": "stdout",
          "text": [
            "vstack= [[1 2]\n",
            " [3 4]\n",
            " [5 6]]\n",
            "hstack= [[1 2 5 6]\n",
            " [3 4 7 8]]\n"
          ]
        }
      ]
    },
    {
      "cell_type": "code",
      "metadata": {
        "id": "85eeed9a",
        "colab": {
          "base_uri": "https://localhost:8080/"
        },
        "outputId": "44a8a02b-9b25-4d84-e4c8-6fcd66c85533"
      },
      "source": [
        "a = np.array((1,2,3))\n",
        "b = np.array((7,8,9))\n",
        "print(a)\n",
        "print(b)\n",
        "\n",
        "print(\"vstack\\n\")\n",
        "print(np.vstack((a,b)))\n",
        "print(\"concatenate\\n\")\n",
        "print(np.concatenate([a.reshape(1,3),b.reshape(1,3)]))\n",
        "print(\"stack\\n\")\n",
        "print(np.stack((a,b),axis=1))\n",
        "print(\"concatenate\\n\")\n",
        "print(np.concatenate((a.reshape(1,3),b.reshape(1,3)),axis = 1))\n",
        "print(\"stack\\n\")\n",
        "print(np.stack((a,b),axis=0))\n",
        "print(\"concatenate\\n\")\n",
        "print(np.concatenate((a.reshape(1,3),b.reshape(1,3)),axis = 0))"
      ],
      "id": "85eeed9a",
      "execution_count": 25,
      "outputs": [
        {
          "output_type": "stream",
          "name": "stdout",
          "text": [
            "[1 2 3]\n",
            "[7 8 9]\n",
            "vstack\n",
            "\n",
            "[[1 2 3]\n",
            " [7 8 9]]\n",
            "concatenate\n",
            "\n",
            "[[1 2 3]\n",
            " [7 8 9]]\n",
            "stack\n",
            "\n",
            "[[1 7]\n",
            " [2 8]\n",
            " [3 9]]\n",
            "concatenate\n",
            "\n",
            "[[1 2 3 7 8 9]]\n",
            "stack\n",
            "\n",
            "[[1 2 3]\n",
            " [7 8 9]]\n",
            "concatenate\n",
            "\n",
            "[[1 2 3]\n",
            " [7 8 9]]\n"
          ]
        }
      ]
    },
    {
      "cell_type": "code",
      "metadata": {
        "id": "b2db6c43"
      },
      "source": [
        ""
      ],
      "id": "b2db6c43",
      "execution_count": 25,
      "outputs": []
    }
  ]
}