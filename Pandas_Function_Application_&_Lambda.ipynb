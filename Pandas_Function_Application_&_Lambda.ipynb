{
  "nbformat": 4,
  "nbformat_minor": 5,
  "metadata": {
    "kernelspec": {
      "display_name": "Python 3",
      "language": "python",
      "name": "python3"
    },
    "language_info": {
      "codemirror_mode": {
        "name": "ipython",
        "version": 3
      },
      "file_extension": ".py",
      "mimetype": "text/x-python",
      "name": "python",
      "nbconvert_exporter": "python",
      "pygments_lexer": "ipython3",
      "version": "3.8.8"
    },
    "colab": {
      "name": " Pandas-Function Application & Lambda.ipynb",
      "provenance": [],
      "include_colab_link": true
    }
  },
  "cells": [
    {
      "cell_type": "markdown",
      "metadata": {
        "id": "view-in-github",
        "colab_type": "text"
      },
      "source": [
        "<a href=\"https://colab.research.google.com/github/Chaturya3125/DAP/blob/main/Pandas_Function_Application_%26_Lambda.ipynb\" target=\"_parent\"><img src=\"https://colab.research.google.com/assets/colab-badge.svg\" alt=\"Open In Colab\"/></a>"
      ]
    },
    {
      "cell_type": "code",
      "metadata": {
        "scrolled": true,
        "id": "e923dd16",
        "colab": {
          "base_uri": "https://localhost:8080/"
        },
        "outputId": "70b15536-dbb4-457e-f3f4-84ce7ba2c6fe"
      },
      "source": [
        "import pandas as pd\n",
        "import numpy as np\n",
        "\n",
        "def adder(ele1,ele2):\n",
        "   return ele1+ele2\n",
        "\n",
        "df = pd.DataFrame(np.random.randn(5,3),columns=['col1','col2','col3'])\n",
        "print(df)\n",
        "print(\"printing the results of pipe\")\n",
        "print(df.pipe(adder,2))"
      ],
      "id": "e923dd16",
      "execution_count": 1,
      "outputs": [
        {
          "output_type": "stream",
          "name": "stdout",
          "text": [
            "       col1      col2      col3\n",
            "0 -0.978654 -0.966455 -1.020153\n",
            "1 -0.182709  0.378258 -0.541408\n",
            "2 -1.069712  0.292996  1.483042\n",
            "3 -1.370155  0.375865 -1.248173\n",
            "4  0.402826 -0.511629  1.768796\n",
            "printing the results of pipe\n",
            "       col1      col2      col3\n",
            "0  1.021346  1.033545  0.979847\n",
            "1  1.817291  2.378258  1.458592\n",
            "2  0.930288  2.292996  3.483042\n",
            "3  0.629845  2.375865  0.751827\n",
            "4  2.402826  1.488371  3.768796\n"
          ]
        }
      ]
    },
    {
      "cell_type": "code",
      "metadata": {
        "id": "f592d461",
        "colab": {
          "base_uri": "https://localhost:8080/"
        },
        "outputId": "6a2c3422-a7ba-4ce7-fb9d-b65df1356d4a"
      },
      "source": [
        "import pandas as pd\n",
        "import numpy as np\n",
        "\n",
        "def adder(ele1,ele2):\n",
        "   return ele1+ele2\n",
        "\n",
        "df = pd.DataFrame(np.random.randn(5,3),columns=['col1','col2','col3'])\n",
        "print(df)\n",
        "\n",
        "print (df.apply(np.mean))"
      ],
      "id": "f592d461",
      "execution_count": 2,
      "outputs": [
        {
          "output_type": "stream",
          "name": "stdout",
          "text": [
            "       col1      col2      col3\n",
            "0  0.163873 -0.724929  0.000751\n",
            "1 -0.292532  0.037792 -0.322553\n",
            "2 -0.006988 -0.032383 -0.329057\n",
            "3 -1.183070 -0.862655  0.231617\n",
            "4  0.732584  1.133824 -0.821573\n",
            "col1   -0.117227\n",
            "col2   -0.089670\n",
            "col3   -0.248163\n",
            "dtype: float64\n"
          ]
        }
      ]
    },
    {
      "cell_type": "code",
      "metadata": {
        "id": "4ca2311a",
        "colab": {
          "base_uri": "https://localhost:8080/"
        },
        "outputId": "5214feff-1192-4002-e4e2-975480f6e03a"
      },
      "source": [
        "import pandas as pd\n",
        "import numpy as np\n",
        "\n",
        "df = pd.DataFrame(np.random.randn(5,3),columns=['col1','col2','col3'])\n",
        "print(df)\n",
        "\n",
        "print (df.apply(np.mean,axis=1))"
      ],
      "id": "4ca2311a",
      "execution_count": 3,
      "outputs": [
        {
          "output_type": "stream",
          "name": "stdout",
          "text": [
            "       col1      col2      col3\n",
            "0  0.796711 -0.679659 -0.599957\n",
            "1 -1.901477  0.534327  0.415908\n",
            "2  0.639468  0.183407  2.729582\n",
            "3 -0.471360  0.520865 -0.435689\n",
            "4 -0.590800 -1.897006 -0.734808\n",
            "0   -0.160969\n",
            "1   -0.317081\n",
            "2    1.184152\n",
            "3   -0.128728\n",
            "4   -1.074205\n",
            "dtype: float64\n"
          ]
        }
      ]
    },
    {
      "cell_type": "code",
      "metadata": {
        "id": "0dbc6704",
        "colab": {
          "base_uri": "https://localhost:8080/"
        },
        "outputId": "54fc20db-449f-4024-dd09-0d953a554b43"
      },
      "source": [
        "import pandas as pd\n",
        "import numpy as np\n",
        "df = pd.DataFrame(np.random.randn(5,3),columns=['col1','col2','col3'])\n",
        "print(df)\n",
        "\n",
        "print(df['col1'].map(lambda x:x*100))\n"
      ],
      "id": "0dbc6704",
      "execution_count": 4,
      "outputs": [
        {
          "output_type": "stream",
          "name": "stdout",
          "text": [
            "       col1      col2      col3\n",
            "0  0.847760 -0.238326 -0.757221\n",
            "1 -0.606766  0.887686  0.106776\n",
            "2 -0.548910 -0.016821 -1.534772\n",
            "3  0.825723  0.019022 -0.150508\n",
            "4  1.113045  0.047810  0.601698\n",
            "0     84.775967\n",
            "1    -60.676639\n",
            "2    -54.891048\n",
            "3     82.572261\n",
            "4    111.304478\n",
            "Name: col1, dtype: float64\n"
          ]
        }
      ]
    },
    {
      "cell_type": "code",
      "metadata": {
        "id": "50c482f4",
        "colab": {
          "base_uri": "https://localhost:8080/"
        },
        "outputId": "2874b70a-046e-430e-a453-3c2b1018c76f"
      },
      "source": [
        "df=pd.DataFrame({'id':[1,2,3,4,5],'name':['abc','defg','ghs','eeee','wwww'],'age':[11,22,33,44,55], 'income':[9999,8888,7777,6666,5555]})\n",
        "print(df)"
      ],
      "id": "50c482f4",
      "execution_count": 5,
      "outputs": [
        {
          "output_type": "stream",
          "name": "stdout",
          "text": [
            "   id  name  age  income\n",
            "0   1   abc   11    9999\n",
            "1   2  defg   22    8888\n",
            "2   3   ghs   33    7777\n",
            "3   4  eeee   44    6666\n",
            "4   5  wwww   55    5555\n"
          ]
        }
      ]
    },
    {
      "cell_type": "code",
      "metadata": {
        "id": "78509ff2",
        "colab": {
          "base_uri": "https://localhost:8080/"
        },
        "outputId": "a5b3f4c4-7ca4-43e7-cc0d-ac4f86ca2c59"
      },
      "source": [
        "df['age']=df.apply(lambda x: x['age']+3, axis=1)\n",
        "print(df)"
      ],
      "id": "78509ff2",
      "execution_count": 6,
      "outputs": [
        {
          "output_type": "stream",
          "name": "stdout",
          "text": [
            "   id  name  age  income\n",
            "0   1   abc   14    9999\n",
            "1   2  defg   25    8888\n",
            "2   3   ghs   36    7777\n",
            "3   4  eeee   47    6666\n",
            "4   5  wwww   58    5555\n"
          ]
        }
      ]
    },
    {
      "cell_type": "code",
      "metadata": {
        "id": "31ec2e81",
        "colab": {
          "base_uri": "https://localhost:8080/"
        },
        "outputId": "2cb92dac-2133-4f87-b7b2-d02b6b1b901f"
      },
      "source": [
        "list(filter(lambda x:x>18, df['age']))"
      ],
      "id": "31ec2e81",
      "execution_count": 7,
      "outputs": [
        {
          "output_type": "execute_result",
          "data": {
            "text/plain": [
              "[25, 36, 47, 58]"
            ]
          },
          "metadata": {},
          "execution_count": 7
        }
      ]
    },
    {
      "cell_type": "code",
      "metadata": {
        "id": "0129ea5a",
        "colab": {
          "base_uri": "https://localhost:8080/"
        },
        "outputId": "e4af5db1-1816-41f9-ae03-fb7512c61fcb"
      },
      "source": [
        "df['income']=list(map(lambda x: int(x+x*0.2), df['income']))\n",
        "print(df)"
      ],
      "id": "0129ea5a",
      "execution_count": 8,
      "outputs": [
        {
          "output_type": "stream",
          "name": "stdout",
          "text": [
            "   id  name  age  income\n",
            "0   1   abc   14   11998\n",
            "1   2  defg   25   10665\n",
            "2   3   ghs   36    9332\n",
            "3   4  eeee   47    7999\n",
            "4   5  wwww   58    6666\n"
          ]
        }
      ]
    },
    {
      "cell_type": "code",
      "metadata": {
        "id": "06a1515d",
        "colab": {
          "base_uri": "https://localhost:8080/"
        },
        "outputId": "c568f050-fb02-40a7-8a9b-564ffe5d6e65"
      },
      "source": [
        "import functools\n",
        "\n",
        "functools.reduce(lambda a,b: a+b, df['income'])"
      ],
      "id": "06a1515d",
      "execution_count": 9,
      "outputs": [
        {
          "output_type": "execute_result",
          "data": {
            "text/plain": [
              "46660"
            ]
          },
          "metadata": {},
          "execution_count": 9
        }
      ]
    },
    {
      "cell_type": "code",
      "metadata": {
        "id": "be799491"
      },
      "source": [
        "df['category']=df['age'].apply(lambda x: 'Adult' if x>=18 else 'Child')"
      ],
      "id": "be799491",
      "execution_count": 10,
      "outputs": []
    },
    {
      "cell_type": "code",
      "metadata": {
        "id": "43f1dac5",
        "colab": {
          "base_uri": "https://localhost:8080/"
        },
        "outputId": "a7caeb49-cb46-4cbf-c8a7-0e7b19ee9378"
      },
      "source": [
        "print(df)"
      ],
      "id": "43f1dac5",
      "execution_count": 11,
      "outputs": [
        {
          "output_type": "stream",
          "name": "stdout",
          "text": [
            "   id  name  age  income category\n",
            "0   1   abc   14   11998    Child\n",
            "1   2  defg   25   10665    Adult\n",
            "2   3   ghs   36    9332    Adult\n",
            "3   4  eeee   47    7999    Adult\n",
            "4   5  wwww   58    6666    Adult\n"
          ]
        }
      ]
    },
    {
      "cell_type": "code",
      "metadata": {
        "id": "d966841e"
      },
      "source": [
        ""
      ],
      "id": "d966841e",
      "execution_count": null,
      "outputs": []
    }
  ]
}