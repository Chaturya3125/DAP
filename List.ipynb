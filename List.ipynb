{
  "nbformat": 4,
  "nbformat_minor": 5,
  "metadata": {
    "kernelspec": {
      "display_name": "Python 3",
      "language": "python",
      "name": "python3"
    },
    "language_info": {
      "codemirror_mode": {
        "name": "ipython",
        "version": 3
      },
      "file_extension": ".py",
      "mimetype": "text/x-python",
      "name": "python",
      "nbconvert_exporter": "python",
      "pygments_lexer": "ipython3",
      "version": "3.8.8"
    },
    "colab": {
      "name": "List.ipynb",
      "provenance": [],
      "include_colab_link": true
    }
  },
  "cells": [
    {
      "cell_type": "markdown",
      "metadata": {
        "id": "view-in-github",
        "colab_type": "text"
      },
      "source": [
        "<a href=\"https://colab.research.google.com/github/Chaturya3125/DAP/blob/main/List.ipynb\" target=\"_parent\"><img src=\"https://colab.research.google.com/assets/colab-badge.svg\" alt=\"Open In Colab\"/></a>"
      ]
    },
    {
      "cell_type": "code",
      "metadata": {
        "id": "a16eb709",
        "outputId": "eedc5517-a4bb-4945-c21a-49847ddb827e"
      },
      "source": [
        "list1 = ['physics', 'chemistry', 1997, 2000];\n",
        "list2 = [1, 2, 3, 4, 5, 6, 7 ];\n",
        "print (\"list1[0]: \", list1[2])\n",
        "print (\"list2[1:5]: \", list2[1:3])"
      ],
      "id": "a16eb709",
      "execution_count": null,
      "outputs": [
        {
          "name": "stdout",
          "output_type": "stream",
          "text": [
            "list1[0]:  1997\n",
            "list2[1:5]:  [2, 3]\n"
          ]
        }
      ]
    },
    {
      "cell_type": "code",
      "metadata": {
        "id": "ba390b9a",
        "colab": {
          "base_uri": "https://localhost:8080/"
        },
        "outputId": "77e34e9d-a2d7-404f-9b18-8b1b82a04075"
      },
      "source": [
        "list = ['physics', 'chemistry', 1997, 2000];\n",
        "print (\"Value available at index 2 : \")\n",
        "print (list[2])\n",
        "list[2] = 999999;\n",
        "print (\"New value available at index 2 : \")\n",
        "print (list[2])"
      ],
      "id": "ba390b9a",
      "execution_count": 1,
      "outputs": [
        {
          "output_type": "stream",
          "name": "stdout",
          "text": [
            "Value available at index 2 : \n",
            "1997\n",
            "New value available at index 2 : \n",
            "999999\n"
          ]
        }
      ]
    },
    {
      "cell_type": "code",
      "metadata": {
        "id": "6ec3d58a",
        "colab": {
          "base_uri": "https://localhost:8080/"
        },
        "outputId": "7f59f975-d895-4a91-f05b-584a4763edc9"
      },
      "source": [
        "list1 = ['physics', 'chemistry', 1997, 2000];\n",
        "print (list1)\n",
        "del (list1[2]);\n",
        "print (\"After deleting value at index 2 :\")\n",
        "print (list1)"
      ],
      "id": "6ec3d58a",
      "execution_count": 2,
      "outputs": [
        {
          "output_type": "stream",
          "name": "stdout",
          "text": [
            "['physics', 'chemistry', 1997, 2000]\n",
            "After deleting value at index 2 :\n",
            "['physics', 'chemistry', 2000]\n"
          ]
        }
      ]
    },
    {
      "cell_type": "code",
      "metadata": {
        "id": "3ccf5446",
        "colab": {
          "base_uri": "https://localhost:8080/"
        },
        "outputId": "ed352eda-6578-40b2-c6e5-da247f0819c6"
      },
      "source": [
        "list1, list2 = [123, 'xyz', 'zara'], [456, 'abc']\n",
        "print (\"First list length : \", len(list1))\n",
        "print (\"Second list length : \", len(list2))"
      ],
      "id": "3ccf5446",
      "execution_count": 3,
      "outputs": [
        {
          "output_type": "stream",
          "name": "stdout",
          "text": [
            "First list length :  3\n",
            "Second list length :  2\n"
          ]
        }
      ]
    },
    {
      "cell_type": "code",
      "metadata": {
        "id": "925a2fcc",
        "colab": {
          "base_uri": "https://localhost:8080/"
        },
        "outputId": "7c82aa5f-a15b-47cd-ecb9-f93eee9e18ad"
      },
      "source": [
        "aList = [123, 'xyz', 'zara', 'abc'];\n",
        "aList.append( 2009 );\n",
        "print (\"Updated List : \", aList)"
      ],
      "id": "925a2fcc",
      "execution_count": 4,
      "outputs": [
        {
          "output_type": "stream",
          "name": "stdout",
          "text": [
            "Updated List :  [123, 'xyz', 'zara', 'abc', 2009]\n"
          ]
        }
      ]
    },
    {
      "cell_type": "code",
      "metadata": {
        "id": "adda2a18",
        "colab": {
          "base_uri": "https://localhost:8080/"
        },
        "outputId": "91003641-9992-48bc-bc51-c80eb0bbe432"
      },
      "source": [
        "aList = [123, 'xyz', 'xyz', 'abc', 123];\n",
        "print (\"Count for xyz : \", aList.count('xyz'))\n",
        "print (\"Count for zara : \", aList.count('zara'))"
      ],
      "id": "adda2a18",
      "execution_count": 5,
      "outputs": [
        {
          "output_type": "stream",
          "name": "stdout",
          "text": [
            "Count for xyz :  2\n",
            "Count for zara :  0\n"
          ]
        }
      ]
    },
    {
      "cell_type": "code",
      "metadata": {
        "id": "fd2b4e87",
        "colab": {
          "base_uri": "https://localhost:8080/"
        },
        "outputId": "aefa3c68-96a9-4ae0-f5b4-c00f777c913e"
      },
      "source": [
        "aList = [123, 'xyz', 'zara', 'abc', 123];\n",
        "bList = [2009, 'shabnam'];\n",
        "aList.extend(bList)\n",
        "print (\"Extended List : \", aList)"
      ],
      "id": "fd2b4e87",
      "execution_count": 6,
      "outputs": [
        {
          "output_type": "stream",
          "name": "stdout",
          "text": [
            "Extended List :  [123, 'xyz', 'zara', 'abc', 123, 2009, 'shabnam']\n"
          ]
        }
      ]
    },
    {
      "cell_type": "code",
      "metadata": {
        "id": "ce3eff72",
        "colab": {
          "base_uri": "https://localhost:8080/"
        },
        "outputId": "9d5f95cb-4c80-4f3b-9961-e58695f490ee"
      },
      "source": [
        "aList = [123, 'xyz', 'zara', 'abc', 'zara'];\n",
        "print (\"Index for xyz : \", aList.index( 'xyz' ) )\n",
        "print (\"Index for zara : \", aList.index( 'zara' ) )"
      ],
      "id": "ce3eff72",
      "execution_count": 7,
      "outputs": [
        {
          "output_type": "stream",
          "name": "stdout",
          "text": [
            "Index for xyz :  1\n",
            "Index for zara :  2\n"
          ]
        }
      ]
    },
    {
      "cell_type": "code",
      "metadata": {
        "id": "9280e780",
        "colab": {
          "base_uri": "https://localhost:8080/"
        },
        "outputId": "116985c5-5120-40b2-e421-328b1a3c2f4d"
      },
      "source": [
        "aList = [123, 'xyz', 'zara', 'abc']\n",
        "aList.insert( 3, 2009)\n",
        "print (\"Final List : \", aList)"
      ],
      "id": "9280e780",
      "execution_count": 8,
      "outputs": [
        {
          "output_type": "stream",
          "name": "stdout",
          "text": [
            "Final List :  [123, 'xyz', 'zara', 2009, 'abc']\n"
          ]
        }
      ]
    },
    {
      "cell_type": "code",
      "metadata": {
        "id": "badb489a",
        "colab": {
          "base_uri": "https://localhost:8080/"
        },
        "outputId": "bcc41b8e-4edf-4481-f3e1-56d35131eb04"
      },
      "source": [
        "aList = [123, 'xyz', 'zara', 'abc'];\n",
        "\n",
        "print(aList)\n",
        "\n",
        "print (\"List after popping last element : \", aList.pop())\n",
        "\n",
        "print(aList)\n",
        "\n",
        "print (\"List after popping element from mentioned index: \", aList.pop(2))\n",
        "\n",
        "print(aList)\n",
        "\n",
        "aList.insert(3, 2009)\n",
        "\n",
        "print(aList)"
      ],
      "id": "badb489a",
      "execution_count": 9,
      "outputs": [
        {
          "output_type": "stream",
          "name": "stdout",
          "text": [
            "[123, 'xyz', 'zara', 'abc']\n",
            "List after popping last element :  abc\n",
            "[123, 'xyz', 'zara']\n",
            "List after popping element from mentioned index:  zara\n",
            "[123, 'xyz']\n",
            "[123, 'xyz', 2009]\n"
          ]
        }
      ]
    },
    {
      "cell_type": "code",
      "metadata": {
        "id": "1787188d",
        "colab": {
          "base_uri": "https://localhost:8080/"
        },
        "outputId": "1c388af1-ce93-4b83-d330-8dde1c715a1d"
      },
      "source": [
        "aList = [123, 'xyz', 'zara', 'abc', 'xyz'];\n",
        "aList.remove('xyz');\n",
        "print (\"List : \", aList)\n",
        "aList.remove('abc');\n",
        "print (\"List : \", aList)"
      ],
      "id": "1787188d",
      "execution_count": 10,
      "outputs": [
        {
          "output_type": "stream",
          "name": "stdout",
          "text": [
            "List :  [123, 'zara', 'abc', 'xyz']\n",
            "List :  [123, 'zara', 'xyz']\n"
          ]
        }
      ]
    },
    {
      "cell_type": "code",
      "metadata": {
        "id": "b2c17fb5",
        "colab": {
          "base_uri": "https://localhost:8080/"
        },
        "outputId": "7d731a0e-9a02-49b3-c5a0-5a995b6436ae"
      },
      "source": [
        "aList = ['shabnam', 'xyz', 'zara', 'abc', 'nive'];\n",
        "aList.reverse();\n",
        "print (\"List : \", aList)"
      ],
      "id": "b2c17fb5",
      "execution_count": 11,
      "outputs": [
        {
          "output_type": "stream",
          "name": "stdout",
          "text": [
            "List :  ['nive', 'abc', 'zara', 'xyz', 'shabnam']\n"
          ]
        }
      ]
    },
    {
      "cell_type": "code",
      "metadata": {
        "id": "2ef2db47",
        "colab": {
          "base_uri": "https://localhost:8080/"
        },
        "outputId": "54dff2f3-57a5-4a0b-85fc-04eef9331ec3"
      },
      "source": [
        "aList = ['naveen', 'shabnam', 'sonia', 'ali', 'nive'];\n",
        "aList.sort();\n",
        "print (\"List : \", aList)"
      ],
      "id": "2ef2db47",
      "execution_count": 12,
      "outputs": [
        {
          "output_type": "stream",
          "name": "stdout",
          "text": [
            "List :  ['ali', 'naveen', 'nive', 'shabnam', 'sonia']\n"
          ]
        }
      ]
    },
    {
      "cell_type": "code",
      "metadata": {
        "id": "bfa58dfa",
        "colab": {
          "base_uri": "https://localhost:8080/",
          "height": 201
        },
        "outputId": "e0fcce2a-e790-49df-f71e-46fe9c10700c"
      },
      "source": [
        "aList = [123, 'xyz', 'zara', 'abc', 'xyz'];\n",
        "aList.sort();\n",
        "print (\"List : \", aList)"
      ],
      "id": "bfa58dfa",
      "execution_count": 13,
      "outputs": [
        {
          "output_type": "error",
          "ename": "TypeError",
          "evalue": "ignored",
          "traceback": [
            "\u001b[0;31m---------------------------------------------------------------------------\u001b[0m",
            "\u001b[0;31mTypeError\u001b[0m                                 Traceback (most recent call last)",
            "\u001b[0;32m<ipython-input-13-d16445a53ada>\u001b[0m in \u001b[0;36m<module>\u001b[0;34m()\u001b[0m\n\u001b[1;32m      1\u001b[0m \u001b[0maList\u001b[0m \u001b[0;34m=\u001b[0m \u001b[0;34m[\u001b[0m\u001b[0;36m123\u001b[0m\u001b[0;34m,\u001b[0m \u001b[0;34m'xyz'\u001b[0m\u001b[0;34m,\u001b[0m \u001b[0;34m'zara'\u001b[0m\u001b[0;34m,\u001b[0m \u001b[0;34m'abc'\u001b[0m\u001b[0;34m,\u001b[0m \u001b[0;34m'xyz'\u001b[0m\u001b[0;34m]\u001b[0m\u001b[0;34m;\u001b[0m\u001b[0;34m\u001b[0m\u001b[0;34m\u001b[0m\u001b[0m\n\u001b[0;32m----> 2\u001b[0;31m \u001b[0maList\u001b[0m\u001b[0;34m.\u001b[0m\u001b[0msort\u001b[0m\u001b[0;34m(\u001b[0m\u001b[0;34m)\u001b[0m\u001b[0;34m;\u001b[0m\u001b[0;34m\u001b[0m\u001b[0;34m\u001b[0m\u001b[0m\n\u001b[0m\u001b[1;32m      3\u001b[0m \u001b[0mprint\u001b[0m \u001b[0;34m(\u001b[0m\u001b[0;34m\"List : \"\u001b[0m\u001b[0;34m,\u001b[0m \u001b[0maList\u001b[0m\u001b[0;34m)\u001b[0m\u001b[0;34m\u001b[0m\u001b[0;34m\u001b[0m\u001b[0m\n",
            "\u001b[0;31mTypeError\u001b[0m: '<' not supported between instances of 'str' and 'int'"
          ]
        }
      ]
    },
    {
      "cell_type": "code",
      "metadata": {
        "id": "8a0c479f"
      },
      "source": [
        ""
      ],
      "id": "8a0c479f",
      "execution_count": null,
      "outputs": []
    }
  ]
}