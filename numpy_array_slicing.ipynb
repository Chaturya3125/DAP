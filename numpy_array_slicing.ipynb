{
  "nbformat": 4,
  "nbformat_minor": 5,
  "metadata": {
    "kernelspec": {
      "display_name": "Python 3",
      "language": "python",
      "name": "python3"
    },
    "language_info": {
      "codemirror_mode": {
        "name": "ipython",
        "version": 3
      },
      "file_extension": ".py",
      "mimetype": "text/x-python",
      "name": "python",
      "nbconvert_exporter": "python",
      "pygments_lexer": "ipython3",
      "version": "3.8.8"
    },
    "colab": {
      "name": "numpy array slicing.ipynb",
      "provenance": [],
      "include_colab_link": true
    }
  },
  "cells": [
    {
      "cell_type": "markdown",
      "metadata": {
        "id": "view-in-github",
        "colab_type": "text"
      },
      "source": [
        "<a href=\"https://colab.research.google.com/github/Chaturya3125/DAP/blob/main/numpy_array_slicing.ipynb\" target=\"_parent\"><img src=\"https://colab.research.google.com/assets/colab-badge.svg\" alt=\"Open In Colab\"/></a>"
      ]
    },
    {
      "cell_type": "code",
      "metadata": {
        "id": "71f7714d",
        "colab": {
          "base_uri": "https://localhost:8080/"
        },
        "outputId": "e2b29c4f-da51-45c7-e1ac-b286d18723f6"
      },
      "source": [
        "print()"
      ],
      "id": "71f7714d",
      "execution_count": 1,
      "outputs": [
        {
          "output_type": "stream",
          "name": "stdout",
          "text": [
            "\n"
          ]
        }
      ]
    },
    {
      "cell_type": "code",
      "metadata": {
        "id": "afb68dea",
        "colab": {
          "base_uri": "https://localhost:8080/"
        },
        "outputId": "5170be78-c7ae-4e53-f7e8-d0bbc6f38a91"
      },
      "source": [
        "#Slicing in python means taking elements from one given index to another given index.\n",
        "#We pass slice instead of index like this: [start:end].\n",
        "#We can also define the step, like this: [start:end:step].\n",
        "#If we don't pass start its considered 0\n",
        "#If we don't pass end its considered length of array in that dimension\n",
        "#If we don't pass step its considered 1\n",
        "\n",
        "\n",
        "import numpy as np\n",
        "\n",
        "arr = np.array([1, 2, 3, 4, 5, 6, 7])\n",
        "\n",
        "print(arr[1:5]) "
      ],
      "id": "afb68dea",
      "execution_count": 2,
      "outputs": [
        {
          "output_type": "stream",
          "name": "stdout",
          "text": [
            "[2 3 4 5]\n"
          ]
        }
      ]
    },
    {
      "cell_type": "code",
      "metadata": {
        "id": "784a5b10",
        "colab": {
          "base_uri": "https://localhost:8080/"
        },
        "outputId": "c1f97aff-6a1f-46e3-8d81-ec00ca78479d"
      },
      "source": [
        "import numpy as np\n",
        "\n",
        "arr = np.array([1, 2, 3, 4, 5, 6, 7])\n",
        "\n",
        "print(arr[4:]) "
      ],
      "id": "784a5b10",
      "execution_count": 3,
      "outputs": [
        {
          "output_type": "stream",
          "name": "stdout",
          "text": [
            "[5 6 7]\n"
          ]
        }
      ]
    },
    {
      "cell_type": "code",
      "metadata": {
        "id": "0772b6fb",
        "colab": {
          "base_uri": "https://localhost:8080/"
        },
        "outputId": "89985335-fedc-4d91-d671-e3eeab76093d"
      },
      "source": [
        "import numpy as np\n",
        "\n",
        "arr = np.array([1, 2, 3, 4, 5, 6, 7])\n",
        "\n",
        "print(arr[:4]) "
      ],
      "id": "0772b6fb",
      "execution_count": 4,
      "outputs": [
        {
          "output_type": "stream",
          "name": "stdout",
          "text": [
            "[1 2 3 4]\n"
          ]
        }
      ]
    },
    {
      "cell_type": "code",
      "metadata": {
        "id": "63c072a4",
        "colab": {
          "base_uri": "https://localhost:8080/"
        },
        "outputId": "6e13c564-dd20-4e7e-f925-faf3e502cac1"
      },
      "source": [
        "import numpy as np\n",
        "\n",
        "arr = np.array([1, 2, 3, 4, 5, 6, 7])\n",
        "\n",
        "print(arr[-4:-1])"
      ],
      "id": "63c072a4",
      "execution_count": 5,
      "outputs": [
        {
          "output_type": "stream",
          "name": "stdout",
          "text": [
            "[4 5 6]\n"
          ]
        }
      ]
    },
    {
      "cell_type": "code",
      "metadata": {
        "id": "a130faa5",
        "colab": {
          "base_uri": "https://localhost:8080/"
        },
        "outputId": "6333289f-b5b2-497a-9be0-7a29828f69ae"
      },
      "source": [
        "import numpy as np\n",
        "\n",
        "arr = np.array([1, 2, 3, 4, 5, 6, 7])\n",
        "\n",
        "print(arr[1:5:2]) "
      ],
      "id": "a130faa5",
      "execution_count": 6,
      "outputs": [
        {
          "output_type": "stream",
          "name": "stdout",
          "text": [
            "[2 4]\n"
          ]
        }
      ]
    },
    {
      "cell_type": "code",
      "metadata": {
        "id": "40fc307b",
        "colab": {
          "base_uri": "https://localhost:8080/"
        },
        "outputId": "4d85a523-03c0-434c-98a5-afd91194fa98"
      },
      "source": [
        "import numpy as np\n",
        "\n",
        "arr = np.array([1, 2, 3, 4, 5, 6, 7])\n",
        "\n",
        "print(arr[::2]) "
      ],
      "id": "40fc307b",
      "execution_count": 7,
      "outputs": [
        {
          "output_type": "stream",
          "name": "stdout",
          "text": [
            "[1 3 5 7]\n"
          ]
        }
      ]
    },
    {
      "cell_type": "code",
      "metadata": {
        "id": "bd90a537",
        "colab": {
          "base_uri": "https://localhost:8080/"
        },
        "outputId": "289fb55d-a9d4-4454-d6ad-1d87812721af"
      },
      "source": [
        "import numpy as np\n",
        "\n",
        "arr = np.array([[1, 2, 3, 4, 5], [6, 7, 8, 9, 10]])\n",
        "\n",
        "print(arr[1, 1:4]) "
      ],
      "id": "bd90a537",
      "execution_count": 8,
      "outputs": [
        {
          "output_type": "stream",
          "name": "stdout",
          "text": [
            "[7 8 9]\n"
          ]
        }
      ]
    },
    {
      "cell_type": "code",
      "metadata": {
        "id": "f6b2656e",
        "colab": {
          "base_uri": "https://localhost:8080/"
        },
        "outputId": "f891634d-d93e-40a4-be9e-4964be5f9c86"
      },
      "source": [
        "import numpy as np\n",
        "\n",
        "arr = np.array([[1, 2, 3, 4, 5], [6, 7, 8, 9, 10],[11,12,13,14,15]])\n",
        "\n",
        "print(arr[2,0:2]) "
      ],
      "id": "f6b2656e",
      "execution_count": 9,
      "outputs": [
        {
          "output_type": "stream",
          "name": "stdout",
          "text": [
            "[11 12]\n"
          ]
        }
      ]
    },
    {
      "cell_type": "code",
      "metadata": {
        "id": "31dcb912",
        "colab": {
          "base_uri": "https://localhost:8080/"
        },
        "outputId": "04325276-f2eb-49eb-dc4a-fcf06974cbb6"
      },
      "source": [
        "import numpy as np\n",
        "\n",
        "arr = np.array([[1, 2, 3, 4, 5], [6, 7, 8, 9, 10],[22,33,44,55,66]])\n",
        "\n",
        "print(arr[0:3, 2]) #from both elements of array, return the value present at index 2"
      ],
      "id": "31dcb912",
      "execution_count": 10,
      "outputs": [
        {
          "output_type": "stream",
          "name": "stdout",
          "text": [
            "[ 3  8 44]\n"
          ]
        }
      ]
    },
    {
      "cell_type": "code",
      "metadata": {
        "id": "bb8c762f",
        "colab": {
          "base_uri": "https://localhost:8080/"
        },
        "outputId": "04cb49fc-8bfb-42c6-85a7-b9c2c2152f29"
      },
      "source": [
        "import numpy as np\n",
        "\n",
        "arr = np.array([[1, 2, 3, 4, 5], [6, 7, 8, 9, 10]])\n",
        "\n",
        "print(arr[0:2, 1:4]) "
      ],
      "id": "bb8c762f",
      "execution_count": 11,
      "outputs": [
        {
          "output_type": "stream",
          "name": "stdout",
          "text": [
            "[[2 3 4]\n",
            " [7 8 9]]\n"
          ]
        }
      ]
    },
    {
      "cell_type": "code",
      "metadata": {
        "id": "d84386c9"
      },
      "source": [
        ""
      ],
      "id": "d84386c9",
      "execution_count": 11,
      "outputs": []
    }
  ]
}