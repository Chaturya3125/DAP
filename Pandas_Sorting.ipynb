{
  "nbformat": 4,
  "nbformat_minor": 5,
  "metadata": {
    "kernelspec": {
      "display_name": "Python 3",
      "language": "python",
      "name": "python3"
    },
    "language_info": {
      "codemirror_mode": {
        "name": "ipython",
        "version": 3
      },
      "file_extension": ".py",
      "mimetype": "text/x-python",
      "name": "python",
      "nbconvert_exporter": "python",
      "pygments_lexer": "ipython3",
      "version": "3.8.8"
    },
    "colab": {
      "name": " Pandas-Sorting.ipynb",
      "provenance": [],
      "include_colab_link": true
    }
  },
  "cells": [
    {
      "cell_type": "markdown",
      "metadata": {
        "id": "view-in-github",
        "colab_type": "text"
      },
      "source": [
        "<a href=\"https://colab.research.google.com/github/Chaturya3125/DAP/blob/main/Pandas_Sorting.ipynb\" target=\"_parent\"><img src=\"https://colab.research.google.com/assets/colab-badge.svg\" alt=\"Open In Colab\"/></a>"
      ]
    },
    {
      "cell_type": "code",
      "metadata": {
        "id": "9edbd48e",
        "colab": {
          "base_uri": "https://localhost:8080/"
        },
        "outputId": "1f692fee-c580-4169-cd8a-5b71fd046276"
      },
      "source": [
        "import pandas as pd\n",
        "import numpy as np\n",
        "\n",
        "unsorted_df=pd.DataFrame(np.random.randn(10,2),index=[1,4,6,2,3,5,9,8,0,7],columns=['col2','col1'])\n",
        "print (unsorted_df)"
      ],
      "id": "9edbd48e",
      "execution_count": 1,
      "outputs": [
        {
          "output_type": "stream",
          "name": "stdout",
          "text": [
            "       col2      col1\n",
            "1 -0.751891 -1.798465\n",
            "4  0.140590 -1.223233\n",
            "6 -1.449661  0.074421\n",
            "2  1.113120 -0.085918\n",
            "3 -1.534247 -0.499206\n",
            "5 -0.688674  0.279842\n",
            "9 -2.485980 -0.076154\n",
            "8 -2.075233  1.186467\n",
            "0  0.150056  0.600335\n",
            "7  0.083134  0.017825\n"
          ]
        }
      ]
    },
    {
      "cell_type": "code",
      "metadata": {
        "id": "8ab4201f",
        "colab": {
          "base_uri": "https://localhost:8080/"
        },
        "outputId": "857b25bc-cc9e-4b57-8dc8-8236aa8953ef"
      },
      "source": [
        "import pandas as pd\n",
        "import numpy as np\n",
        "\n",
        "unsorted_df = pd.DataFrame(np.random.randn(10,2),index=[1,4,6,2,3,5,9,8,0,7],columns = ['col2','col1'])\n",
        "\n",
        "sorted_df=unsorted_df.sort_index()\n",
        "print (sorted_df)"
      ],
      "id": "8ab4201f",
      "execution_count": 2,
      "outputs": [
        {
          "output_type": "stream",
          "name": "stdout",
          "text": [
            "       col2      col1\n",
            "0  0.464438  1.345759\n",
            "1  0.581529  0.852479\n",
            "2  0.102364  0.427961\n",
            "3 -0.721624 -0.506519\n",
            "4 -0.138826  0.242616\n",
            "5  1.222696 -1.082184\n",
            "6 -1.041459  0.483578\n",
            "7  0.546433  0.377608\n",
            "8  1.952711 -1.613885\n",
            "9 -0.817830 -0.088796\n"
          ]
        }
      ]
    },
    {
      "cell_type": "code",
      "metadata": {
        "id": "5888cf77",
        "colab": {
          "base_uri": "https://localhost:8080/"
        },
        "outputId": "121cd8a9-6148-4f47-fc58-33e39b578f61"
      },
      "source": [
        "import pandas as pd\n",
        "import numpy as np\n",
        "\n",
        "unsorted_df = pd.DataFrame(np.random.randn(10,2),index=[1,4,6,2,3,5,9,8,0,7],columns = ['col2','col1'])\n",
        "\n",
        "sorted_df = unsorted_df.sort_index(ascending=False)\n",
        "print (sorted_df)"
      ],
      "id": "5888cf77",
      "execution_count": 3,
      "outputs": [
        {
          "output_type": "stream",
          "name": "stdout",
          "text": [
            "       col2      col1\n",
            "9 -1.180022  0.523387\n",
            "8  0.949103 -0.094123\n",
            "7  1.258642 -0.912221\n",
            "6  1.144900 -0.179658\n",
            "5  0.100498  0.804103\n",
            "4 -0.734372  1.153813\n",
            "3  0.247861 -1.101127\n",
            "2 -0.806950 -0.224359\n",
            "1  0.196953  0.519147\n",
            "0 -0.033971  1.277512\n"
          ]
        }
      ]
    },
    {
      "cell_type": "code",
      "metadata": {
        "id": "2c8e8d2a",
        "colab": {
          "base_uri": "https://localhost:8080/"
        },
        "outputId": "11f0aba5-8e0a-4671-878e-866fa9b5b545"
      },
      "source": [
        "import pandas as pd\n",
        "import numpy as np\n",
        " \n",
        "unsorted_df = pd.DataFrame(np.random.randn(10,2),index=[1,4,6,2,3,5,9,8,0,7],columns = ['col2','col1'])\n",
        " \n",
        "sorted_df=unsorted_df.sort_index(axis=1)\n",
        "\n",
        "print (sorted_df)"
      ],
      "id": "2c8e8d2a",
      "execution_count": 4,
      "outputs": [
        {
          "output_type": "stream",
          "name": "stdout",
          "text": [
            "       col1      col2\n",
            "1  1.283036  2.456690\n",
            "4  0.469351 -0.105197\n",
            "6  0.375298 -0.355558\n",
            "2 -1.062072 -0.180648\n",
            "3 -0.936310 -1.034174\n",
            "5  0.481072  1.228412\n",
            "9  0.398468  1.538203\n",
            "8 -0.192177 -0.486178\n",
            "0  0.866192 -0.697385\n",
            "7  0.183378 -1.849199\n"
          ]
        }
      ]
    },
    {
      "cell_type": "code",
      "metadata": {
        "id": "d78703bd",
        "colab": {
          "base_uri": "https://localhost:8080/"
        },
        "outputId": "b66e2fe1-6d8b-4a31-91a9-16673fbbe7e7"
      },
      "source": [
        "import pandas as pd\n",
        "import numpy as np\n",
        "\n",
        "unsorted_df = pd.DataFrame({'col1':[2,1,1,1],'col2':[1,3,2,4]})\n",
        "sorted_df = unsorted_df.sort_values(by='col1')\n",
        "\n",
        "print (sorted_df)"
      ],
      "id": "d78703bd",
      "execution_count": 5,
      "outputs": [
        {
          "output_type": "stream",
          "name": "stdout",
          "text": [
            "   col1  col2\n",
            "1     1     3\n",
            "2     1     2\n",
            "3     1     4\n",
            "0     2     1\n"
          ]
        }
      ]
    },
    {
      "cell_type": "code",
      "metadata": {
        "id": "da0e9260",
        "colab": {
          "base_uri": "https://localhost:8080/"
        },
        "outputId": "2afe6215-c666-4884-f201-eca371ade447"
      },
      "source": [
        "import pandas as pd\n",
        "import numpy as np\n",
        "\n",
        "unsorted_df = pd.DataFrame({'col1':[2,1,1,1],'col2':[1,3,2,4]})\n",
        "sorted_df = unsorted_df.sort_values(by=['col1','col2'])\n",
        "\n",
        "print (sorted_df)"
      ],
      "id": "da0e9260",
      "execution_count": 6,
      "outputs": [
        {
          "output_type": "stream",
          "name": "stdout",
          "text": [
            "   col1  col2\n",
            "2     1     2\n",
            "1     1     3\n",
            "3     1     4\n",
            "0     2     1\n"
          ]
        }
      ]
    },
    {
      "cell_type": "code",
      "metadata": {
        "id": "6ebf1e65",
        "colab": {
          "base_uri": "https://localhost:8080/"
        },
        "outputId": "49cbce57-dbd0-43f5-b5ad-9102c33d527f"
      },
      "source": [
        "import pandas as pd\n",
        "import numpy as np\n",
        "\n",
        "unsorted_df = pd.DataFrame({'col1':[2,1,1,1],'col2':[1,3,2,4]})\n",
        "sorted_df = unsorted_df.sort_values(by='col1' ,kind='mergesort')\n",
        "\n",
        "print (sorted_df)"
      ],
      "id": "6ebf1e65",
      "execution_count": 7,
      "outputs": [
        {
          "output_type": "stream",
          "name": "stdout",
          "text": [
            "   col1  col2\n",
            "1     1     3\n",
            "2     1     2\n",
            "3     1     4\n",
            "0     2     1\n"
          ]
        }
      ]
    },
    {
      "cell_type": "code",
      "metadata": {
        "id": "033c791f"
      },
      "source": [
        ""
      ],
      "id": "033c791f",
      "execution_count": null,
      "outputs": []
    }
  ]
}